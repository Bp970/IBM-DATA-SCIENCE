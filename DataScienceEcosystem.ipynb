{
 "cells": [
  {
   "cell_type": "markdown",
   "id": "1f186182-917d-4b69-b1eb-739208126688",
   "metadata": {},
   "source": [
    "# Data Science Tools and Ecosystem\n"
   ]
  },
  {
   "cell_type": "markdown",
   "id": "6f2dcb0e-ff44-4272-b80c-6c39b7279e88",
   "metadata": {},
   "source": [
    "### In this notebook, Data Science Tools and Ecosystem are summarized.\n"
   ]
  },
  {
   "cell_type": "markdown",
   "id": "be99c42e-4054-4c2c-be87-28e1ef24d8d2",
   "metadata": {},
   "source": [
    "Some of the popular languages that Data Scientists use are:\n",
    "1. Python\n",
    "2. R\n",
    "3. Julia\n"
   ]
  },
  {
   "cell_type": "markdown",
   "id": "9ed8e2b0-d72a-4967-adeb-9270fb720d9c",
   "metadata": {},
   "source": [
    " Some of the commonly used libraries used by Data Scientists include:\n",
    "1. NumPy\n",
    "2. Pandas\n",
    "3. Scikit-learn\n"
   ]
  },
  {
   "cell_type": "markdown",
   "id": "1e3e3ba2-8199-45f5-80e3-1f8aac58948e",
   "metadata": {},
   "source": [
    "| Data Science Tools |\n",
    "| ----------------- |\n",
    "| Jupyter Notebook  |\n",
    "| RStudio           |\n",
    "| Apache Spark      |\n"
   ]
  },
  {
   "cell_type": "markdown",
   "id": "64978bd9-8733-4a1e-8597-739409be211f",
   "metadata": {},
   "source": [
    "### ### Below are a few examples of evaluating arithmetic expressions in Python.\n"
   ]
  },
  {
   "cell_type": "code",
   "execution_count": 1,
   "id": "18b2ef77-8b9d-4a9d-99db-5e438e52b195",
   "metadata": {
    "tags": []
   },
   "outputs": [
    {
     "data": {
      "text/plain": [
       "17"
      ]
     },
     "execution_count": 1,
     "metadata": {},
     "output_type": "execute_result"
    }
   ],
   "source": [
    "# This is a simple arithmetic expression to multiply then add integers.\n",
    "result = (3*4)+5\n",
    "result"
   ]
  },
  {
   "cell_type": "code",
   "execution_count": 2,
   "id": "f0434d26-2ff5-45a6-90fd-e1d848b22f57",
   "metadata": {
    "tags": []
   },
   "outputs": [
    {
     "data": {
      "text/plain": [
       "3.3333333333333335"
      ]
     },
     "execution_count": 2,
     "metadata": {},
     "output_type": "execute_result"
    }
   ],
   "source": [
    "# This will convert 200 minutes to hours by dividing by 60.\n",
    "minutes = 200\n",
    "hours = minutes / 60\n",
    "hours\n"
   ]
  },
  {
   "cell_type": "markdown",
   "id": "20adde7f-f510-46e5-98ab-5a745f71fdad",
   "metadata": {
    "tags": []
   },
   "source": [
    "## **Objectives:**\n",
    "- List popular languages for Data Science.\n",
    "- Introduce common data science libraries.\n",
    "- Provide an overview of data science tools.\n"
   ]
  },
  {
   "cell_type": "markdown",
   "id": "43822187-a637-43a0-a47c-b25ac9920c70",
   "metadata": {},
   "source": [
    "## Author\n",
    "Bhavesh Patil\n"
   ]
  },
  {
   "cell_type": "code",
   "execution_count": null,
   "id": "88368319-54e5-4cea-bbc2-844eb87e5f6e",
   "metadata": {},
   "outputs": [],
   "source": []
  }
 ],
 "metadata": {
  "kernelspec": {
   "display_name": "Python",
   "language": "python",
   "name": "conda-env-python-py"
  },
  "language_info": {
   "codemirror_mode": {
    "name": "ipython",
    "version": 3
   },
   "file_extension": ".py",
   "mimetype": "text/x-python",
   "name": "python",
   "nbconvert_exporter": "python",
   "pygments_lexer": "ipython3",
   "version": "3.7.12"
  }
 },
 "nbformat": 4,
 "nbformat_minor": 5
}
